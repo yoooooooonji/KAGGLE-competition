{
 "cells": [
  {
   "cell_type": "code",
   "execution_count": 2,
   "metadata": {},
   "outputs": [
    {
     "name": "stdout",
     "output_type": "stream",
     "text": [
      "/Users/yj.noh/Documents/GitHub/KAGGLE-competition/optiver-trading-at-the-close\n"
     ]
    }
   ],
   "source": [
    "import pandas as pd\n",
    "import numpy as np\n",
    "import random \n",
    "import os\n",
    "import joblib\n",
    "import matplotlib.pyplot as plt\n",
    "import statsmodels.api as sm\n",
    "from datetime import datetime\n",
    "import seaborn as sns\n",
    "from sklearn.preprocessing import OneHotEncoder\n",
    "from sklearn.preprocessing import StandardScaler\n",
    "from sklearn.preprocessing import MinMaxScaler\n",
    "from sklearn.linear_model import LogisticRegression\n",
    "from sklearn.model_selection import train_test_split, cross_val_score\n",
    "from sklearn.metrics import log_loss, roc_auc_score, recall_score, precision_score, average_precision_score, f1_score, classification_report, accuracy_score,confusion_matrix, silhouette_score\n",
    "from statsmodels.stats.outliers_influence import variance_inflation_factor\n",
    "from sklearn.model_selection import GridSearchCV\n",
    "from sklearn.model_selection import cross_val_predict\n",
    "\n",
    "from sklearn.cluster import KMeans, AgglomerativeClustering, DBSCAN\n",
    "from sklearn.datasets import make_blobs\n",
    "\n",
    "import warnings\n",
    "warnings.filterwarnings(\"ignore\")\n",
    "os.chdir(\"/Users/yj.noh/Documents/GitHub/KAGGLE-competition/optiver-trading-at-the-close\")\n",
    "print(os.getcwd())"
   ]
  },
  {
   "cell_type": "code",
   "execution_count": 4,
   "metadata": {},
   "outputs": [
    {
     "name": "stdout",
     "output_type": "stream",
     "text": [
      "   stock_id  date_id  seconds_in_bucket  imbalance_size  \\\n",
      "0         0        0                  0      3180602.69   \n",
      "1         1        0                  0       166603.91   \n",
      "2         2        0                  0       302879.87   \n",
      "3         3        0                  0     11917682.27   \n",
      "4         4        0                  0       447549.96   \n",
      "\n",
      "   imbalance_buy_sell_flag  reference_price  matched_size  far_price  \\\n",
      "0                        1         0.999812   13380276.64        NaN   \n",
      "1                       -1         0.999896    1642214.25        NaN   \n",
      "2                       -1         0.999561    1819368.03        NaN   \n",
      "3                       -1         1.000171   18389745.62        NaN   \n",
      "4                       -1         0.999532   17860614.95        NaN   \n",
      "\n",
      "   near_price  bid_price  bid_size  ask_price   ask_size  wap    target  \\\n",
      "0         NaN   0.999812  60651.50   1.000026    8493.03  1.0 -3.029704   \n",
      "1         NaN   0.999896   3233.04   1.000660   20605.09  1.0 -5.519986   \n",
      "2         NaN   0.999403  37956.00   1.000298   18995.00  1.0 -8.389950   \n",
      "3         NaN   0.999999   2324.90   1.000214  479032.40  1.0 -4.010200   \n",
      "4         NaN   0.999394  16485.54   1.000016     434.10  1.0 -7.349849   \n",
      "\n",
      "   time_id row_id  \n",
      "0        0  0_0_0  \n",
      "1        0  0_0_1  \n",
      "2        0  0_0_2  \n",
      "3        0  0_0_3  \n",
      "4        0  0_0_4  \n"
     ]
    }
   ],
   "source": [
    "train = pd.read_csv(\"train.csv\", encoding = \"cp949\" )\n",
    "print(train.head())"
   ]
  },
  {
   "cell_type": "code",
   "execution_count": 5,
   "metadata": {},
   "outputs": [
    {
     "name": "stdout",
     "output_type": "stream",
     "text": [
      "(5237980, 17)\n"
     ]
    }
   ],
   "source": [
    "print(train.shape) #5237980 "
   ]
  },
  {
   "cell_type": "code",
   "execution_count": null,
   "metadata": {},
   "outputs": [],
   "source": []
  }
 ],
 "metadata": {
  "kernelspec": {
   "display_name": "Python 3",
   "language": "python",
   "name": "python3"
  },
  "language_info": {
   "codemirror_mode": {
    "name": "ipython",
    "version": 3
   },
   "file_extension": ".py",
   "mimetype": "text/x-python",
   "name": "python",
   "nbconvert_exporter": "python",
   "pygments_lexer": "ipython3",
   "version": "3.9.6"
  },
  "orig_nbformat": 4
 },
 "nbformat": 4,
 "nbformat_minor": 2
}
